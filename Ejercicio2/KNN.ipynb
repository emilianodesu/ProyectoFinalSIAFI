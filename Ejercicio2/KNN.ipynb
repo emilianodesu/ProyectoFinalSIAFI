{
 "cells": [
  {
   "metadata": {},
   "cell_type": "markdown",
   "source": "# Ejercicio 2: Clasificación de frases según emojis | K-Nearest Neighbors (KNN)",
   "id": "d04922e04f1d111e"
  },
  {
   "metadata": {},
   "cell_type": "markdown",
   "source": [
    "## Descripción:\n",
    "\n",
    "Asigna un emoji a frases cortas basandote en la tonalidad del texto (por ejemplo, \"Estoy feliz\" -> 😃, \"Estoy triste\" -> 😢, \"Estoy enojado\" -> 😠)."
   ],
   "id": "bf0b7ac7e329be84"
  },
  {
   "metadata": {},
   "cell_type": "markdown",
   "source": "### Pasos:",
   "id": "b204b339662a8ec"
  },
  {
   "metadata": {
    "ExecuteTime": {
     "end_time": "2025-01-20T01:03:22.461697Z",
     "start_time": "2025-01-20T01:03:22.444170Z"
    }
   },
   "cell_type": "code",
   "source": [
    "import pandas as pd\n",
    "from sklearn.model_selection import train_test_split\n",
    "from sklearn.feature_extraction.text import TfidfVectorizer\n",
    "from sklearn.neighbors import KNeighborsClassifier\n",
    "from sklearn.metrics import classification_report, accuracy_score\n",
    "from sklearn.model_selection import cross_val_score"
   ],
   "id": "927174502be9ce4",
   "outputs": [],
   "execution_count": 37
  },
  {
   "metadata": {},
   "cell_type": "markdown",
   "source": [
    "- Crea un dataset con frases y emojis asociados (puedes extraer frases de redes sociales o\n",
    "generarlas)."
   ],
   "id": "42f95ce8f4904cb"
  },
  {
   "cell_type": "code",
   "id": "initial_id",
   "metadata": {
    "collapsed": true,
    "ExecuteTime": {
     "end_time": "2025-01-20T01:03:22.502850Z",
     "start_time": "2025-01-20T01:03:22.487147Z"
    }
   },
   "source": [
    "frases = [\n",
    "    (\"Hoy me siento increíble, como si todo estuviera bien\", \"😊\"),\n",
    "    (\"Este día ha sido el mejor de todos\", \"😊\"),\n",
    "    (\"La felicidad está en las pequeñas cosas\", \"😊\"),\n",
    "    (\"Hoy me encontré con un viejo amigo, ¡qué alegría!\", \"😊\"),\n",
    "    (\"No puedo dejar de sonreír, todo está marchando bien\", \"😊\"),\n",
    "    (\"Estoy muy emocionado por el fin de semana\", \"😊\"),\n",
    "    (\"Hoy, por fin, logré lo que tanto quería\", \"😊\"),\n",
    "    (\"Todo salió como esperaba, estoy feliz\", \"😊\"),\n",
    "    (\"Hoy recibí buenas noticias y estoy muy contento\", \"😊\"),\n",
    "    (\"Me siento súper bien, como si nada pudiera detenerme\", \"😊\"),\n",
    "\n",
    "    (\"Estoy muy triste hoy, no tengo ganas de nada\", \"😢\"),\n",
    "    (\"Siento que las cosas no van bien y me deprimo\", \"😢\"),\n",
    "    (\"Es uno de esos días grises, me siento solo/a\", \"😢\"),\n",
    "    (\"Hoy todo salió mal, no puedo evitar estar triste\", \"😢\"),\n",
    "    (\"No encuentro consuelo, me siento vacío/a\", \"😢\"),\n",
    "    (\"La tristeza me invade, hoy fue un día muy difícil\", \"😢\"),\n",
    "    (\"Mis ánimos están por los suelos, nada parece mejorar\", \"😢\"),\n",
    "    (\"Me siento tan solo/a hoy, nada parece tener sentido\", \"😢\"),\n",
    "    (\"Algunas veces todo me parece tan complicado, hoy estoy triste\", \"😢\"),\n",
    "    (\"No me gusta sentirme así, pero hoy solo quiero estar triste\", \"😢\"),\n",
    "\n",
    "    (\"¡Qué rico! Hoy comeré una pizza de queso\", \"🍕\"),\n",
    "    (\"Tengo un hambre voraz, unas papas fritas serían geniales\", \"🍕\"),\n",
    "    (\"Hoy cenaré una pizza gigante, ya me está dando antojo\", \"🍕\"),\n",
    "    (\"A veces no hay nada mejor que una pizza para la cena\", \"🍕\"),\n",
    "    (\"¿Alguien más tiene antojo de pizza? ¡Yo sí!\", \"🍕\"),\n",
    "    (\"Unas buenas hamburguesas son lo que más necesito\", \"🍕\"),\n",
    "    (\"Mi comida favorita: pizza con todo\", \"🍕\"),\n",
    "    (\"Las pizzas siempre son una buena opción\", \"🍕\"),\n",
    "    (\"Hoy me di un gusto con una gran pizza\", \"🍕\"),\n",
    "    (\"A veces lo único que quiero es comida rápida y deliciosa\", \"🍕\"),\n",
    "\n",
    "    (\"Estar con esa persona me llena de felicidad\", \"❤️\"),\n",
    "    (\"Hoy me siento tan afortunado/a de tener a alguien tan especial\", \"❤️\"),\n",
    "    (\"No puedo dejar de pensar en lo increíble que es estar con él/ella\", \"❤️\"),\n",
    "    (\"Cada momento con esa persona hace mi día mejor\", \"❤️\"),\n",
    "    (\"Nada me hace más feliz que estar a su lado\", \"❤️\"),\n",
    "    (\"El amor se siente tan intenso, estoy muy agradecido/a\", \"❤️\"),\n",
    "    (\"Hoy siento que el amor está en el aire\", \"❤️\"),\n",
    "    (\"Cuando estoy con él/ella, todo parece estar en su lugar\", \"❤️\"),\n",
    "    (\"No hay mejor sensación que saber que alguien te quiere\", \"❤️\"),\n",
    "    (\"Hoy recibí un mensaje tan bonito que me hizo sonreír\", \"❤️\"),\n",
    "\n",
    "    (\"Estoy lleno de energía, hoy voy a entrenar sin parar\", \"🔥\"),\n",
    "    (\"Nada me detiene hoy, me siento como un superhéroe\", \"🔥\"),\n",
    "    (\"Hoy es uno de esos días en los que puedo hacer cualquier cosa\", \"🔥\"),\n",
    "    (\"Hoy es el día para empezar un nuevo proyecto, ¡con mucha energía!\", \"🔥\"),\n",
    "    (\"Tengo tantas ganas de hacer ejercicio hoy, no puedo esperar\", \"🔥\"),\n",
    "    (\"Mi energía está por las nubes, voy con todo\", \"🔥\"),\n",
    "    (\"Siento que hoy va a ser un gran día, ¡tengo toda la actitud!\", \"🔥\"),\n",
    "    (\"No puedo parar, hoy todo lo que haga será increíble\", \"🔥\"),\n",
    "    (\"Hoy estoy motivado/a, voy a hacer todo lo posible para mejorar\", \"🔥\"),\n",
    "    (\"Hoy me siento con tanta energía que podría hacer cualquier cosa\", \"🔥\"),\n",
    "]"
   ],
   "outputs": [],
   "execution_count": 38
  },
  {
   "metadata": {
    "ExecuteTime": {
     "end_time": "2025-01-20T01:03:22.518865Z",
     "start_time": "2025-01-20T01:03:22.502850Z"
    }
   },
   "cell_type": "code",
   "source": "dataset = pd.DataFrame(frases, columns=[\"Frase\", \"Emoji\"])",
   "id": "4c3d264e3e19c406",
   "outputs": [],
   "execution_count": 39
  },
  {
   "metadata": {
    "ExecuteTime": {
     "end_time": "2025-01-20T01:03:22.550647Z",
     "start_time": "2025-01-20T01:03:22.534857Z"
    }
   },
   "cell_type": "code",
   "source": [
    "# Guardar el dataset en un archivo CSV\n",
    "dataset_path = \"./frases_emojis.csv\"\n",
    "dataset.to_csv(dataset_path, index=False, encoding=\"utf-8\")"
   ],
   "id": "7f59afc01333a47c",
   "outputs": [],
   "execution_count": 40
  },
  {
   "metadata": {
    "ExecuteTime": {
     "end_time": "2025-01-20T01:03:22.582344Z",
     "start_time": "2025-01-20T01:03:22.566655Z"
    }
   },
   "cell_type": "code",
   "source": "dataset",
   "id": "d565bcc7e0748cd8",
   "outputs": [
    {
     "data": {
      "text/plain": [
       "                                                Frase Emoji\n",
       "0   Hoy me siento increíble, como si todo estuvier...     😊\n",
       "1                  Este día ha sido el mejor de todos     😊\n",
       "2             La felicidad está en las pequeñas cosas     😊\n",
       "3   Hoy me encontré con un viejo amigo, ¡qué alegría!     😊\n",
       "4   No puedo dejar de sonreír, todo está marchando...     😊\n",
       "5           Estoy muy emocionado por el fin de semana     😊\n",
       "6             Hoy, por fin, logré lo que tanto quería     😊\n",
       "7               Todo salió como esperaba, estoy feliz     😊\n",
       "8     Hoy recibí buenas noticias y estoy muy contento     😊\n",
       "9   Me siento súper bien, como si nada pudiera det...     😊\n",
       "10       Estoy muy triste hoy, no tengo ganas de nada     😢\n",
       "11      Siento que las cosas no van bien y me deprimo     😢\n",
       "12       Es uno de esos días grises, me siento solo/a     😢\n",
       "13   Hoy todo salió mal, no puedo evitar estar triste     😢\n",
       "14           No encuentro consuelo, me siento vacío/a     😢\n",
       "15  La tristeza me invade, hoy fue un día muy difícil     😢\n",
       "16  Mis ánimos están por los suelos, nada parece m...     😢\n",
       "17  Me siento tan solo/a hoy, nada parece tener se...     😢\n",
       "18  Algunas veces todo me parece tan complicado, h...     😢\n",
       "19  No me gusta sentirme así, pero hoy solo quiero...     😢\n",
       "20           ¡Qué rico! Hoy comeré una pizza de queso     🍕\n",
       "21  Tengo un hambre voraz, unas papas fritas sería...     🍕\n",
       "22  Hoy cenaré una pizza gigante, ya me está dando...     🍕\n",
       "23  A veces no hay nada mejor que una pizza para l...     🍕\n",
       "24        ¿Alguien más tiene antojo de pizza? ¡Yo sí!     🍕\n",
       "25   Unas buenas hamburguesas son lo que más necesito     🍕\n",
       "26                 Mi comida favorita: pizza con todo     🍕\n",
       "27            Las pizzas siempre son una buena opción     🍕\n",
       "28              Hoy me di un gusto con una gran pizza     🍕\n",
       "29  A veces lo único que quiero es comida rápida y...     🍕\n",
       "30        Estar con esa persona me llena de felicidad    ❤️\n",
       "31  Hoy me siento tan afortunado/a de tener a algu...    ❤️\n",
       "32  No puedo dejar de pensar en lo increíble que e...    ❤️\n",
       "33     Cada momento con esa persona hace mi día mejor    ❤️\n",
       "34         Nada me hace más feliz que estar a su lado    ❤️\n",
       "35  El amor se siente tan intenso, estoy muy agrad...    ❤️\n",
       "36             Hoy siento que el amor está en el aire    ❤️\n",
       "37  Cuando estoy con él/ella, todo parece estar en...    ❤️\n",
       "38  No hay mejor sensación que saber que alguien t...    ❤️\n",
       "39  Hoy recibí un mensaje tan bonito que me hizo s...    ❤️\n",
       "40  Estoy lleno de energía, hoy voy a entrenar sin...     🔥\n",
       "41  Nada me detiene hoy, me siento como un superhéroe     🔥\n",
       "42  Hoy es uno de esos días en los que puedo hacer...     🔥\n",
       "43  Hoy es el día para empezar un nuevo proyecto, ...     🔥\n",
       "44  Tengo tantas ganas de hacer ejercicio hoy, no ...     🔥\n",
       "45        Mi energía está por las nubes, voy con todo     🔥\n",
       "46  Siento que hoy va a ser un gran día, ¡tengo to...     🔥\n",
       "47  No puedo parar, hoy todo lo que haga será incr...     🔥\n",
       "48  Hoy estoy motivado/a, voy a hacer todo lo posi...     🔥\n",
       "49  Hoy me siento con tanta energía que podría hac...     🔥"
      ],
      "text/html": [
       "<div>\n",
       "<style scoped>\n",
       "    .dataframe tbody tr th:only-of-type {\n",
       "        vertical-align: middle;\n",
       "    }\n",
       "\n",
       "    .dataframe tbody tr th {\n",
       "        vertical-align: top;\n",
       "    }\n",
       "\n",
       "    .dataframe thead th {\n",
       "        text-align: right;\n",
       "    }\n",
       "</style>\n",
       "<table border=\"1\" class=\"dataframe\">\n",
       "  <thead>\n",
       "    <tr style=\"text-align: right;\">\n",
       "      <th></th>\n",
       "      <th>Frase</th>\n",
       "      <th>Emoji</th>\n",
       "    </tr>\n",
       "  </thead>\n",
       "  <tbody>\n",
       "    <tr>\n",
       "      <th>0</th>\n",
       "      <td>Hoy me siento increíble, como si todo estuvier...</td>\n",
       "      <td>😊</td>\n",
       "    </tr>\n",
       "    <tr>\n",
       "      <th>1</th>\n",
       "      <td>Este día ha sido el mejor de todos</td>\n",
       "      <td>😊</td>\n",
       "    </tr>\n",
       "    <tr>\n",
       "      <th>2</th>\n",
       "      <td>La felicidad está en las pequeñas cosas</td>\n",
       "      <td>😊</td>\n",
       "    </tr>\n",
       "    <tr>\n",
       "      <th>3</th>\n",
       "      <td>Hoy me encontré con un viejo amigo, ¡qué alegría!</td>\n",
       "      <td>😊</td>\n",
       "    </tr>\n",
       "    <tr>\n",
       "      <th>4</th>\n",
       "      <td>No puedo dejar de sonreír, todo está marchando...</td>\n",
       "      <td>😊</td>\n",
       "    </tr>\n",
       "    <tr>\n",
       "      <th>5</th>\n",
       "      <td>Estoy muy emocionado por el fin de semana</td>\n",
       "      <td>😊</td>\n",
       "    </tr>\n",
       "    <tr>\n",
       "      <th>6</th>\n",
       "      <td>Hoy, por fin, logré lo que tanto quería</td>\n",
       "      <td>😊</td>\n",
       "    </tr>\n",
       "    <tr>\n",
       "      <th>7</th>\n",
       "      <td>Todo salió como esperaba, estoy feliz</td>\n",
       "      <td>😊</td>\n",
       "    </tr>\n",
       "    <tr>\n",
       "      <th>8</th>\n",
       "      <td>Hoy recibí buenas noticias y estoy muy contento</td>\n",
       "      <td>😊</td>\n",
       "    </tr>\n",
       "    <tr>\n",
       "      <th>9</th>\n",
       "      <td>Me siento súper bien, como si nada pudiera det...</td>\n",
       "      <td>😊</td>\n",
       "    </tr>\n",
       "    <tr>\n",
       "      <th>10</th>\n",
       "      <td>Estoy muy triste hoy, no tengo ganas de nada</td>\n",
       "      <td>😢</td>\n",
       "    </tr>\n",
       "    <tr>\n",
       "      <th>11</th>\n",
       "      <td>Siento que las cosas no van bien y me deprimo</td>\n",
       "      <td>😢</td>\n",
       "    </tr>\n",
       "    <tr>\n",
       "      <th>12</th>\n",
       "      <td>Es uno de esos días grises, me siento solo/a</td>\n",
       "      <td>😢</td>\n",
       "    </tr>\n",
       "    <tr>\n",
       "      <th>13</th>\n",
       "      <td>Hoy todo salió mal, no puedo evitar estar triste</td>\n",
       "      <td>😢</td>\n",
       "    </tr>\n",
       "    <tr>\n",
       "      <th>14</th>\n",
       "      <td>No encuentro consuelo, me siento vacío/a</td>\n",
       "      <td>😢</td>\n",
       "    </tr>\n",
       "    <tr>\n",
       "      <th>15</th>\n",
       "      <td>La tristeza me invade, hoy fue un día muy difícil</td>\n",
       "      <td>😢</td>\n",
       "    </tr>\n",
       "    <tr>\n",
       "      <th>16</th>\n",
       "      <td>Mis ánimos están por los suelos, nada parece m...</td>\n",
       "      <td>😢</td>\n",
       "    </tr>\n",
       "    <tr>\n",
       "      <th>17</th>\n",
       "      <td>Me siento tan solo/a hoy, nada parece tener se...</td>\n",
       "      <td>😢</td>\n",
       "    </tr>\n",
       "    <tr>\n",
       "      <th>18</th>\n",
       "      <td>Algunas veces todo me parece tan complicado, h...</td>\n",
       "      <td>😢</td>\n",
       "    </tr>\n",
       "    <tr>\n",
       "      <th>19</th>\n",
       "      <td>No me gusta sentirme así, pero hoy solo quiero...</td>\n",
       "      <td>😢</td>\n",
       "    </tr>\n",
       "    <tr>\n",
       "      <th>20</th>\n",
       "      <td>¡Qué rico! Hoy comeré una pizza de queso</td>\n",
       "      <td>🍕</td>\n",
       "    </tr>\n",
       "    <tr>\n",
       "      <th>21</th>\n",
       "      <td>Tengo un hambre voraz, unas papas fritas sería...</td>\n",
       "      <td>🍕</td>\n",
       "    </tr>\n",
       "    <tr>\n",
       "      <th>22</th>\n",
       "      <td>Hoy cenaré una pizza gigante, ya me está dando...</td>\n",
       "      <td>🍕</td>\n",
       "    </tr>\n",
       "    <tr>\n",
       "      <th>23</th>\n",
       "      <td>A veces no hay nada mejor que una pizza para l...</td>\n",
       "      <td>🍕</td>\n",
       "    </tr>\n",
       "    <tr>\n",
       "      <th>24</th>\n",
       "      <td>¿Alguien más tiene antojo de pizza? ¡Yo sí!</td>\n",
       "      <td>🍕</td>\n",
       "    </tr>\n",
       "    <tr>\n",
       "      <th>25</th>\n",
       "      <td>Unas buenas hamburguesas son lo que más necesito</td>\n",
       "      <td>🍕</td>\n",
       "    </tr>\n",
       "    <tr>\n",
       "      <th>26</th>\n",
       "      <td>Mi comida favorita: pizza con todo</td>\n",
       "      <td>🍕</td>\n",
       "    </tr>\n",
       "    <tr>\n",
       "      <th>27</th>\n",
       "      <td>Las pizzas siempre son una buena opción</td>\n",
       "      <td>🍕</td>\n",
       "    </tr>\n",
       "    <tr>\n",
       "      <th>28</th>\n",
       "      <td>Hoy me di un gusto con una gran pizza</td>\n",
       "      <td>🍕</td>\n",
       "    </tr>\n",
       "    <tr>\n",
       "      <th>29</th>\n",
       "      <td>A veces lo único que quiero es comida rápida y...</td>\n",
       "      <td>🍕</td>\n",
       "    </tr>\n",
       "    <tr>\n",
       "      <th>30</th>\n",
       "      <td>Estar con esa persona me llena de felicidad</td>\n",
       "      <td>❤️</td>\n",
       "    </tr>\n",
       "    <tr>\n",
       "      <th>31</th>\n",
       "      <td>Hoy me siento tan afortunado/a de tener a algu...</td>\n",
       "      <td>❤️</td>\n",
       "    </tr>\n",
       "    <tr>\n",
       "      <th>32</th>\n",
       "      <td>No puedo dejar de pensar en lo increíble que e...</td>\n",
       "      <td>❤️</td>\n",
       "    </tr>\n",
       "    <tr>\n",
       "      <th>33</th>\n",
       "      <td>Cada momento con esa persona hace mi día mejor</td>\n",
       "      <td>❤️</td>\n",
       "    </tr>\n",
       "    <tr>\n",
       "      <th>34</th>\n",
       "      <td>Nada me hace más feliz que estar a su lado</td>\n",
       "      <td>❤️</td>\n",
       "    </tr>\n",
       "    <tr>\n",
       "      <th>35</th>\n",
       "      <td>El amor se siente tan intenso, estoy muy agrad...</td>\n",
       "      <td>❤️</td>\n",
       "    </tr>\n",
       "    <tr>\n",
       "      <th>36</th>\n",
       "      <td>Hoy siento que el amor está en el aire</td>\n",
       "      <td>❤️</td>\n",
       "    </tr>\n",
       "    <tr>\n",
       "      <th>37</th>\n",
       "      <td>Cuando estoy con él/ella, todo parece estar en...</td>\n",
       "      <td>❤️</td>\n",
       "    </tr>\n",
       "    <tr>\n",
       "      <th>38</th>\n",
       "      <td>No hay mejor sensación que saber que alguien t...</td>\n",
       "      <td>❤️</td>\n",
       "    </tr>\n",
       "    <tr>\n",
       "      <th>39</th>\n",
       "      <td>Hoy recibí un mensaje tan bonito que me hizo s...</td>\n",
       "      <td>❤️</td>\n",
       "    </tr>\n",
       "    <tr>\n",
       "      <th>40</th>\n",
       "      <td>Estoy lleno de energía, hoy voy a entrenar sin...</td>\n",
       "      <td>🔥</td>\n",
       "    </tr>\n",
       "    <tr>\n",
       "      <th>41</th>\n",
       "      <td>Nada me detiene hoy, me siento como un superhéroe</td>\n",
       "      <td>🔥</td>\n",
       "    </tr>\n",
       "    <tr>\n",
       "      <th>42</th>\n",
       "      <td>Hoy es uno de esos días en los que puedo hacer...</td>\n",
       "      <td>🔥</td>\n",
       "    </tr>\n",
       "    <tr>\n",
       "      <th>43</th>\n",
       "      <td>Hoy es el día para empezar un nuevo proyecto, ...</td>\n",
       "      <td>🔥</td>\n",
       "    </tr>\n",
       "    <tr>\n",
       "      <th>44</th>\n",
       "      <td>Tengo tantas ganas de hacer ejercicio hoy, no ...</td>\n",
       "      <td>🔥</td>\n",
       "    </tr>\n",
       "    <tr>\n",
       "      <th>45</th>\n",
       "      <td>Mi energía está por las nubes, voy con todo</td>\n",
       "      <td>🔥</td>\n",
       "    </tr>\n",
       "    <tr>\n",
       "      <th>46</th>\n",
       "      <td>Siento que hoy va a ser un gran día, ¡tengo to...</td>\n",
       "      <td>🔥</td>\n",
       "    </tr>\n",
       "    <tr>\n",
       "      <th>47</th>\n",
       "      <td>No puedo parar, hoy todo lo que haga será incr...</td>\n",
       "      <td>🔥</td>\n",
       "    </tr>\n",
       "    <tr>\n",
       "      <th>48</th>\n",
       "      <td>Hoy estoy motivado/a, voy a hacer todo lo posi...</td>\n",
       "      <td>🔥</td>\n",
       "    </tr>\n",
       "    <tr>\n",
       "      <th>49</th>\n",
       "      <td>Hoy me siento con tanta energía que podría hac...</td>\n",
       "      <td>🔥</td>\n",
       "    </tr>\n",
       "  </tbody>\n",
       "</table>\n",
       "</div>"
      ]
     },
     "execution_count": 41,
     "metadata": {},
     "output_type": "execute_result"
    }
   ],
   "execution_count": 41
  },
  {
   "metadata": {},
   "cell_type": "markdown",
   "source": "- Representa las frases en forma de vectores utilizando TF-IDF o embeddings como Word2Vec.",
   "id": "bc81832849ed2087"
  },
  {
   "metadata": {
    "ExecuteTime": {
     "end_time": "2025-01-20T01:03:22.670109Z",
     "start_time": "2025-01-20T01:03:22.654596Z"
    }
   },
   "cell_type": "code",
   "source": "df = pd.read_csv(dataset_path)",
   "id": "64e9337ae6245e44",
   "outputs": [],
   "execution_count": 42
  },
  {
   "metadata": {
    "ExecuteTime": {
     "end_time": "2025-01-20T01:03:22.746614Z",
     "start_time": "2025-01-20T01:03:22.734081Z"
    }
   },
   "cell_type": "code",
   "source": "df['Frase'] = df['Frase'].str.lower()",
   "id": "3fa5812a78c590ac",
   "outputs": [],
   "execution_count": 43
  },
  {
   "metadata": {
    "ExecuteTime": {
     "end_time": "2025-01-20T01:03:22.836937Z",
     "start_time": "2025-01-20T01:03:22.821439Z"
    }
   },
   "cell_type": "code",
   "source": [
    "vectorizer = TfidfVectorizer(stop_words='english')\n",
    "X = vectorizer.fit_transform(df['Frase'])\n",
    "y = df['Emoji']"
   ],
   "id": "c12016ec63494da5",
   "outputs": [],
   "execution_count": 44
  },
  {
   "metadata": {},
   "cell_type": "markdown",
   "source": "- Aplica k-NN para clasificar las frases según el emoji más probable y entrenar el modelo.",
   "id": "54233d7d5790922f"
  },
  {
   "metadata": {
    "ExecuteTime": {
     "end_time": "2025-01-20T01:03:22.891837Z",
     "start_time": "2025-01-20T01:03:22.870567Z"
    }
   },
   "cell_type": "code",
   "source": "X_train, X_test, y_train, y_test = train_test_split(X, y, test_size=0.2, random_state=42, stratify=y)",
   "id": "8530c03877da27bc",
   "outputs": [],
   "execution_count": 45
  },
  {
   "metadata": {
    "ExecuteTime": {
     "end_time": "2025-01-20T01:03:22.950115Z",
     "start_time": "2025-01-20T01:03:22.926700Z"
    }
   },
   "cell_type": "code",
   "source": [
    "knn = KNeighborsClassifier(n_neighbors=5)\n",
    "knn.fit(X_train, y_train)"
   ],
   "id": "5845ef1a4cd74cb8",
   "outputs": [
    {
     "data": {
      "text/plain": [
       "KNeighborsClassifier()"
      ],
      "text/html": [
       "<style>#sk-container-id-3 {color: black;}#sk-container-id-3 pre{padding: 0;}#sk-container-id-3 div.sk-toggleable {background-color: white;}#sk-container-id-3 label.sk-toggleable__label {cursor: pointer;display: block;width: 100%;margin-bottom: 0;padding: 0.3em;box-sizing: border-box;text-align: center;}#sk-container-id-3 label.sk-toggleable__label-arrow:before {content: \"▸\";float: left;margin-right: 0.25em;color: #696969;}#sk-container-id-3 label.sk-toggleable__label-arrow:hover:before {color: black;}#sk-container-id-3 div.sk-estimator:hover label.sk-toggleable__label-arrow:before {color: black;}#sk-container-id-3 div.sk-toggleable__content {max-height: 0;max-width: 0;overflow: hidden;text-align: left;background-color: #f0f8ff;}#sk-container-id-3 div.sk-toggleable__content pre {margin: 0.2em;color: black;border-radius: 0.25em;background-color: #f0f8ff;}#sk-container-id-3 input.sk-toggleable__control:checked~div.sk-toggleable__content {max-height: 200px;max-width: 100%;overflow: auto;}#sk-container-id-3 input.sk-toggleable__control:checked~label.sk-toggleable__label-arrow:before {content: \"▾\";}#sk-container-id-3 div.sk-estimator input.sk-toggleable__control:checked~label.sk-toggleable__label {background-color: #d4ebff;}#sk-container-id-3 div.sk-label input.sk-toggleable__control:checked~label.sk-toggleable__label {background-color: #d4ebff;}#sk-container-id-3 input.sk-hidden--visually {border: 0;clip: rect(1px 1px 1px 1px);clip: rect(1px, 1px, 1px, 1px);height: 1px;margin: -1px;overflow: hidden;padding: 0;position: absolute;width: 1px;}#sk-container-id-3 div.sk-estimator {font-family: monospace;background-color: #f0f8ff;border: 1px dotted black;border-radius: 0.25em;box-sizing: border-box;margin-bottom: 0.5em;}#sk-container-id-3 div.sk-estimator:hover {background-color: #d4ebff;}#sk-container-id-3 div.sk-parallel-item::after {content: \"\";width: 100%;border-bottom: 1px solid gray;flex-grow: 1;}#sk-container-id-3 div.sk-label:hover label.sk-toggleable__label {background-color: #d4ebff;}#sk-container-id-3 div.sk-serial::before {content: \"\";position: absolute;border-left: 1px solid gray;box-sizing: border-box;top: 0;bottom: 0;left: 50%;z-index: 0;}#sk-container-id-3 div.sk-serial {display: flex;flex-direction: column;align-items: center;background-color: white;padding-right: 0.2em;padding-left: 0.2em;position: relative;}#sk-container-id-3 div.sk-item {position: relative;z-index: 1;}#sk-container-id-3 div.sk-parallel {display: flex;align-items: stretch;justify-content: center;background-color: white;position: relative;}#sk-container-id-3 div.sk-item::before, #sk-container-id-3 div.sk-parallel-item::before {content: \"\";position: absolute;border-left: 1px solid gray;box-sizing: border-box;top: 0;bottom: 0;left: 50%;z-index: -1;}#sk-container-id-3 div.sk-parallel-item {display: flex;flex-direction: column;z-index: 1;position: relative;background-color: white;}#sk-container-id-3 div.sk-parallel-item:first-child::after {align-self: flex-end;width: 50%;}#sk-container-id-3 div.sk-parallel-item:last-child::after {align-self: flex-start;width: 50%;}#sk-container-id-3 div.sk-parallel-item:only-child::after {width: 0;}#sk-container-id-3 div.sk-dashed-wrapped {border: 1px dashed gray;margin: 0 0.4em 0.5em 0.4em;box-sizing: border-box;padding-bottom: 0.4em;background-color: white;}#sk-container-id-3 div.sk-label label {font-family: monospace;font-weight: bold;display: inline-block;line-height: 1.2em;}#sk-container-id-3 div.sk-label-container {text-align: center;}#sk-container-id-3 div.sk-container {/* jupyter's `normalize.less` sets `[hidden] { display: none; }` but bootstrap.min.css set `[hidden] { display: none !important; }` so we also need the `!important` here to be able to override the default hidden behavior on the sphinx rendered scikit-learn.org. See: https://github.com/scikit-learn/scikit-learn/issues/21755 */display: inline-block !important;position: relative;}#sk-container-id-3 div.sk-text-repr-fallback {display: none;}</style><div id=\"sk-container-id-3\" class=\"sk-top-container\"><div class=\"sk-text-repr-fallback\"><pre>KNeighborsClassifier()</pre><b>In a Jupyter environment, please rerun this cell to show the HTML representation or trust the notebook. <br />On GitHub, the HTML representation is unable to render, please try loading this page with nbviewer.org.</b></div><div class=\"sk-container\" hidden><div class=\"sk-item\"><div class=\"sk-estimator sk-toggleable\"><input class=\"sk-toggleable__control sk-hidden--visually\" id=\"sk-estimator-id-3\" type=\"checkbox\" checked><label for=\"sk-estimator-id-3\" class=\"sk-toggleable__label sk-toggleable__label-arrow\">KNeighborsClassifier</label><div class=\"sk-toggleable__content\"><pre>KNeighborsClassifier()</pre></div></div></div></div></div>"
      ]
     },
     "execution_count": 46,
     "metadata": {},
     "output_type": "execute_result"
    }
   ],
   "execution_count": 46
  },
  {
   "metadata": {
    "ExecuteTime": {
     "end_time": "2025-01-20T01:03:23.006481Z",
     "start_time": "2025-01-20T01:03:22.986794Z"
    }
   },
   "cell_type": "code",
   "source": "y_pred = knn.predict(X_test)",
   "id": "b73d26516bf8becf",
   "outputs": [],
   "execution_count": 47
  },
  {
   "metadata": {},
   "cell_type": "markdown",
   "source": "- Presenta los resultados con predicciones correctas e incorrectas con sus emojis y presenta tu analisis.",
   "id": "f29285d01d7618b3"
  },
  {
   "metadata": {
    "ExecuteTime": {
     "end_time": "2025-01-20T01:03:23.056729Z",
     "start_time": "2025-01-20T01:03:23.041600Z"
    }
   },
   "cell_type": "code",
   "source": "y_test",
   "id": "357e4a196e393f7a",
   "outputs": [
    {
     "data": {
      "text/plain": [
       "26     🍕\n",
       "12     😢\n",
       "41     🔥\n",
       "36    ❤️\n",
       "33    ❤️\n",
       "19     😢\n",
       "5      😊\n",
       "44     🔥\n",
       "9      😊\n",
       "22     🍕\n",
       "Name: Emoji, dtype: object"
      ]
     },
     "execution_count": 48,
     "metadata": {},
     "output_type": "execute_result"
    }
   ],
   "execution_count": 48
  },
  {
   "metadata": {
    "ExecuteTime": {
     "end_time": "2025-01-20T01:03:23.167662Z",
     "start_time": "2025-01-20T01:03:23.154605Z"
    }
   },
   "cell_type": "code",
   "source": "y_pred",
   "id": "936b18812fae0d9",
   "outputs": [
    {
     "data": {
      "text/plain": [
       "array(['🍕', '🔥', '😊', '🔥', '❤️', '😢', '😊', '🔥', '😊', '🍕'], dtype=object)"
      ]
     },
     "execution_count": 49,
     "metadata": {},
     "output_type": "execute_result"
    }
   ],
   "execution_count": 49
  },
  {
   "metadata": {
    "ExecuteTime": {
     "end_time": "2025-01-20T01:03:23.253406Z",
     "start_time": "2025-01-20T01:03:23.241237Z"
    }
   },
   "cell_type": "code",
   "source": [
    "predicciones_correctas = df.iloc[y_test.index][y_pred == y_test]\n",
    "predicciones_incorrectas = df.iloc[y_test.index][y_pred != y_test]"
   ],
   "id": "c57fec180f2876d3",
   "outputs": [],
   "execution_count": 50
  },
  {
   "metadata": {
    "ExecuteTime": {
     "end_time": "2025-01-20T01:03:23.388466Z",
     "start_time": "2025-01-20T01:03:23.372581Z"
    }
   },
   "cell_type": "code",
   "source": "predicciones_correctas",
   "id": "68f94e1c2808b1d9",
   "outputs": [
    {
     "data": {
      "text/plain": [
       "                                                Frase Emoji\n",
       "26                 mi comida favorita: pizza con todo     🍕\n",
       "33     cada momento con esa persona hace mi día mejor    ❤️\n",
       "19  no me gusta sentirme así, pero hoy solo quiero...     😢\n",
       "5           estoy muy emocionado por el fin de semana     😊\n",
       "44  tengo tantas ganas de hacer ejercicio hoy, no ...     🔥\n",
       "9   me siento súper bien, como si nada pudiera det...     😊\n",
       "22  hoy cenaré una pizza gigante, ya me está dando...     🍕"
      ],
      "text/html": [
       "<div>\n",
       "<style scoped>\n",
       "    .dataframe tbody tr th:only-of-type {\n",
       "        vertical-align: middle;\n",
       "    }\n",
       "\n",
       "    .dataframe tbody tr th {\n",
       "        vertical-align: top;\n",
       "    }\n",
       "\n",
       "    .dataframe thead th {\n",
       "        text-align: right;\n",
       "    }\n",
       "</style>\n",
       "<table border=\"1\" class=\"dataframe\">\n",
       "  <thead>\n",
       "    <tr style=\"text-align: right;\">\n",
       "      <th></th>\n",
       "      <th>Frase</th>\n",
       "      <th>Emoji</th>\n",
       "    </tr>\n",
       "  </thead>\n",
       "  <tbody>\n",
       "    <tr>\n",
       "      <th>26</th>\n",
       "      <td>mi comida favorita: pizza con todo</td>\n",
       "      <td>🍕</td>\n",
       "    </tr>\n",
       "    <tr>\n",
       "      <th>33</th>\n",
       "      <td>cada momento con esa persona hace mi día mejor</td>\n",
       "      <td>❤️</td>\n",
       "    </tr>\n",
       "    <tr>\n",
       "      <th>19</th>\n",
       "      <td>no me gusta sentirme así, pero hoy solo quiero...</td>\n",
       "      <td>😢</td>\n",
       "    </tr>\n",
       "    <tr>\n",
       "      <th>5</th>\n",
       "      <td>estoy muy emocionado por el fin de semana</td>\n",
       "      <td>😊</td>\n",
       "    </tr>\n",
       "    <tr>\n",
       "      <th>44</th>\n",
       "      <td>tengo tantas ganas de hacer ejercicio hoy, no ...</td>\n",
       "      <td>🔥</td>\n",
       "    </tr>\n",
       "    <tr>\n",
       "      <th>9</th>\n",
       "      <td>me siento súper bien, como si nada pudiera det...</td>\n",
       "      <td>😊</td>\n",
       "    </tr>\n",
       "    <tr>\n",
       "      <th>22</th>\n",
       "      <td>hoy cenaré una pizza gigante, ya me está dando...</td>\n",
       "      <td>🍕</td>\n",
       "    </tr>\n",
       "  </tbody>\n",
       "</table>\n",
       "</div>"
      ]
     },
     "execution_count": 51,
     "metadata": {},
     "output_type": "execute_result"
    }
   ],
   "execution_count": 51
  },
  {
   "metadata": {
    "ExecuteTime": {
     "end_time": "2025-01-20T01:03:23.484250Z",
     "start_time": "2025-01-20T01:03:23.468572Z"
    }
   },
   "cell_type": "code",
   "source": "predicciones_incorrectas",
   "id": "b224c032edc83dc1",
   "outputs": [
    {
     "data": {
      "text/plain": [
       "                                                Frase Emoji\n",
       "12       es uno de esos días grises, me siento solo/a     😢\n",
       "41  nada me detiene hoy, me siento como un superhéroe     🔥\n",
       "36             hoy siento que el amor está en el aire    ❤️"
      ],
      "text/html": [
       "<div>\n",
       "<style scoped>\n",
       "    .dataframe tbody tr th:only-of-type {\n",
       "        vertical-align: middle;\n",
       "    }\n",
       "\n",
       "    .dataframe tbody tr th {\n",
       "        vertical-align: top;\n",
       "    }\n",
       "\n",
       "    .dataframe thead th {\n",
       "        text-align: right;\n",
       "    }\n",
       "</style>\n",
       "<table border=\"1\" class=\"dataframe\">\n",
       "  <thead>\n",
       "    <tr style=\"text-align: right;\">\n",
       "      <th></th>\n",
       "      <th>Frase</th>\n",
       "      <th>Emoji</th>\n",
       "    </tr>\n",
       "  </thead>\n",
       "  <tbody>\n",
       "    <tr>\n",
       "      <th>12</th>\n",
       "      <td>es uno de esos días grises, me siento solo/a</td>\n",
       "      <td>😢</td>\n",
       "    </tr>\n",
       "    <tr>\n",
       "      <th>41</th>\n",
       "      <td>nada me detiene hoy, me siento como un superhéroe</td>\n",
       "      <td>🔥</td>\n",
       "    </tr>\n",
       "    <tr>\n",
       "      <th>36</th>\n",
       "      <td>hoy siento que el amor está en el aire</td>\n",
       "      <td>❤️</td>\n",
       "    </tr>\n",
       "  </tbody>\n",
       "</table>\n",
       "</div>"
      ]
     },
     "execution_count": 52,
     "metadata": {},
     "output_type": "execute_result"
    }
   ],
   "execution_count": 52
  },
  {
   "metadata": {
    "ExecuteTime": {
     "end_time": "2025-01-20T01:03:23.651447Z",
     "start_time": "2025-01-20T01:03:23.619762Z"
    }
   },
   "cell_type": "code",
   "source": [
    "accuracy = accuracy_score(y_test, y_pred)\n",
    "classification_rep = classification_report(y_test, y_pred, zero_division=1)"
   ],
   "id": "c16ac53b6dd94f4e",
   "outputs": [],
   "execution_count": 53
  },
  {
   "metadata": {
    "ExecuteTime": {
     "end_time": "2025-01-20T01:03:23.802363Z",
     "start_time": "2025-01-20T01:03:23.786548Z"
    }
   },
   "cell_type": "code",
   "source": [
    "print(f\"\\nAccuracy del modelo: {accuracy:.4f}\")\n",
    "print(\"\\nReporte de clasificación:\")\n",
    "print(classification_rep)"
   ],
   "id": "e642287821c198e",
   "outputs": [
    {
     "name": "stdout",
     "output_type": "stream",
     "text": [
      "\n",
      "Accuracy del modelo: 0.7000\n",
      "\n",
      "Reporte de clasificación:\n",
      "              precision    recall  f1-score   support\n",
      "\n",
      "          ❤️       1.00      0.50      0.67         2\n",
      "           🍕       1.00      1.00      1.00         2\n",
      "           🔥       0.33      0.50      0.40         2\n",
      "           😊       0.67      1.00      0.80         2\n",
      "           😢       1.00      0.50      0.67         2\n",
      "\n",
      "    accuracy                           0.70        10\n",
      "   macro avg       0.80      0.70      0.71        10\n",
      "weighted avg       0.80      0.70      0.71        10\n",
      "\n"
     ]
    }
   ],
   "execution_count": 54
  },
  {
   "metadata": {
    "ExecuteTime": {
     "end_time": "2025-01-20T01:03:24.032371Z",
     "start_time": "2025-01-20T01:03:23.971650Z"
    }
   },
   "cell_type": "code",
   "source": [
    "cross_val_scores = cross_val_score(knn, X, y, cv=5)\n",
    "print(f\"Validación cruzada: {cross_val_scores.mean():.4f}\")"
   ],
   "id": "b6e7bcf4338780e8",
   "outputs": [
    {
     "name": "stdout",
     "output_type": "stream",
     "text": [
      "Validación cruzada: 0.6800\n"
     ]
    }
   ],
   "execution_count": 55
  },
  {
   "metadata": {},
   "cell_type": "markdown",
   "source": [
    "El accuracy del modelo es 0.70, lo que indica que el modelo acertó el emoji correcto en el 70% de las veces sobre el conjunto de prueba.\n",
    "\n",
    "Emoji ❤️:\n",
    "- Precisión (Precision): 1.00 → El modelo predijo correctamente todas las veces que se encontraba un ❤️.\n",
    "- Recall: 0.50 → De todas las instancias que realmente eran ❤️, el modelo solo identificó correctamente la mitad.\n",
    "- F1-score: 0.67 → El equilibrio entre precisión y recall es moderado, ya que el modelo tiene una alta precisión pero una baja capacidad para detectar todas las instancias de ❤️.\n",
    "\n",
    "Emoji 🍕:\n",
    "- Precisión: 1.00 → El modelo predijo correctamente todas las veces que encontró 🍕.\n",
    "- Recall: 1.00 → El modelo identificó correctamente todas las veces que 🍕 estuvo presente.\n",
    "- F1-score: 1.00 → Este emoji fue perfectamente clasificado.\n",
    "\n",
    "Emoji 🔥:\n",
    "- Precisión: 0.33 → Solo un tercio de las veces que el modelo predijo 🔥, fue correcto.\n",
    "- Recall: 0.50 → El modelo identificó correctamente la mitad de las instancias que eran 🔥, pero tuvo un rendimiento deficiente al predecirlo correctamente.\n",
    "- F1-score: 0.40 → El rendimiento general para esta clase fue bajo.\n",
    "\n",
    "Emoji 😊:\n",
    "- Precisión: 0.67 → El modelo tuvo un rendimiento decente al predecir 😊 correctamente.\n",
    "- Recall: 1.00 → El modelo identificó todas las instancias de 😊, aunque no todas las predicciones fueron precisas.\n",
    "- F1-score: 0.80 → Buen rendimiento general.\n",
    "\n",
    "Emoji 😢:\n",
    "- Precisión: 1.00 → El modelo predijo correctamente todas las veces que encontró 😢.\n",
    "- Recall: 0.50 → Al igual que con el emoji ❤️, el modelo no identificó correctamente todas las instancias de 😢.\n",
    "- F1-score: 0.67 → El rendimiento fue moderado.\n",
    "\n",
    "El modelo tuvo una validación cruzada con un promedio de 0.68, lo que indica que el modelo tiene una capacidad razonablemente buena para generalizar a nuevos datos, pero todavía se pueden hacer mejoras.\n",
    "\n",
    "Posibles mejoras:\n",
    "\n",
    "- Aumentar la cantidad de datos para entrenar el modelo.\n",
    "-  Probar con diferentes valores de k en el modelo de k-NN podría mejorar la precisión. Por ejemplo, un valor más alto de k podría mejorar la estabilidad del modelo.\n",
    "- Si las clases están desbalanceadas, podrías probar técnicas de balanceo de clases o ponderar las clases en el modelo para evitar que el modelo favorezca las clases más comunes."
   ],
   "id": "c865c85984e2743d"
  }
 ],
 "metadata": {
  "kernelspec": {
   "display_name": "Python 3",
   "language": "python",
   "name": "python3"
  },
  "language_info": {
   "codemirror_mode": {
    "name": "ipython",
    "version": 2
   },
   "file_extension": ".py",
   "mimetype": "text/x-python",
   "name": "python",
   "nbconvert_exporter": "python",
   "pygments_lexer": "ipython2",
   "version": "2.7.6"
  }
 },
 "nbformat": 4,
 "nbformat_minor": 5
}
