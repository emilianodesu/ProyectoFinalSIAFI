{
 "cells": [
  {
   "metadata": {},
   "cell_type": "markdown",
   "source": "# Ejercicio 3: Clasificación de videojuegos por popularidad. | Bosques aleatorios (Random Forest)",
   "id": "c0b6c19b956f7c7d"
  },
  {
   "metadata": {},
   "cell_type": "markdown",
   "source": [
    "## Descripción:\n",
    "Clasifica videojuegos como \"muy populares\", \"moderadamente populares\" o \"menos populares\" basandote en ventas, calificaciones y datos de usuarios activos."
   ],
   "id": "c302a003a1bf3120"
  },
  {
   "cell_type": "code",
   "execution_count": null,
   "id": "initial_id",
   "metadata": {
    "collapsed": true
   },
   "outputs": [],
   "source": [
    ""
   ]
  },
  {
   "metadata": {},
   "cell_type": "markdown",
   "source": "### Pasos:",
   "id": "383606fceb83e618"
  },
  {
   "metadata": {},
   "cell_type": "markdown",
   "source": "- Usa el dataset de Video Games Sales en Kaggle",
   "id": "7d506924fdab4c35"
  },
  {
   "metadata": {},
   "cell_type": "code",
   "outputs": [],
   "execution_count": null,
   "source": "",
   "id": "f37c71a8eb88c611"
  },
  {
   "metadata": {},
   "cell_type": "markdown",
   "source": "- Limpia los datos",
   "id": "c2fbf962929e69ab"
  }
 ],
 "metadata": {
  "kernelspec": {
   "display_name": "Python 3",
   "language": "python",
   "name": "python3"
  },
  "language_info": {
   "codemirror_mode": {
    "name": "ipython",
    "version": 2
   },
   "file_extension": ".py",
   "mimetype": "text/x-python",
   "name": "python",
   "nbconvert_exporter": "python",
   "pygments_lexer": "ipython2",
   "version": "2.7.6"
  }
 },
 "nbformat": 4,
 "nbformat_minor": 5
}
